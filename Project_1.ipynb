{
  "nbformat": 4,
  "nbformat_minor": 0,
  "metadata": {
    "colab": {
      "provenance": [],
      "include_colab_link": true
    },
    "kernelspec": {
      "name": "python3",
      "display_name": "Python 3"
    },
    "language_info": {
      "name": "python"
    }
  },
  "cells": [
    {
      "cell_type": "markdown",
      "metadata": {
        "id": "view-in-github",
        "colab_type": "text"
      },
      "source": [
        "<a href=\"https://colab.research.google.com/github/Nishant453563/Fundamental/blob/main/Project_1.ipynb\" target=\"_parent\"><img src=\"https://colab.research.google.com/assets/colab-badge.svg\" alt=\"Open In Colab\"/></a>"
      ]
    },
    {
      "cell_type": "markdown",
      "source": [
        "# Hand Written Digits Identification Project"
      ],
      "metadata": {
        "id": "_lJLt1Y-QtY4"
      }
    },
    {
      "cell_type": "markdown",
      "source": [
        "## Objective\n",
        "To develop a model which can identify the hand written digits."
      ],
      "metadata": {
        "id": "pIbKBXsRRXY_"
      }
    },
    {
      "cell_type": "markdown",
      "source": [
        "## Data Source\n",
        "The dataset is available on different platforms and also a part of dataset module of scikit package.Originally,it is sourced from:\n",
        "E. Alpaydin, C. Kaynak\n",
        "Department of Computer Engineering\n",
        "Bogazici University, 80815 Istanbul Turkey\n",
        "alpaydin '@' boun.edu.tr"
      ],
      "metadata": {
        "id": "7Zhdc-H8SC90"
      }
    },
    {
      "cell_type": "markdown",
      "source": [
        "## Importing the libraries"
      ],
      "metadata": {
        "id": "4O3C7hS2AB7L"
      }
    },
    {
      "cell_type": "code",
      "source": [
        "import pandas as pd\n",
        "import numpy as np\n",
        "import matplotlib.pyplot as plt"
      ],
      "metadata": {
        "id": "E7iLKg2AAOY-"
      },
      "execution_count": 5,
      "outputs": []
    },
    {
      "cell_type": "markdown",
      "source": [
        "## Import data"
      ],
      "metadata": {
        "id": "sEnGNEN0AUzp"
      }
    },
    {
      "cell_type": "code",
      "source": [
        "from sklearn.datasets import load_digits\n",
        "dataset1 = load_digits()"
      ],
      "metadata": {
        "id": "HRG6cghTAZWA"
      },
      "execution_count": 6,
      "outputs": []
    },
    {
      "cell_type": "markdown",
      "source": [
        "## Describe Data "
      ],
      "metadata": {
        "id": "g7etjZBcWf1C"
      }
    },
    {
      "cell_type": "markdown",
      "source": [
        "32x32 bitmaps are divided into nonoverlapping blocks of 4x4 and the number of pixels are counted in each block. This generates an input matrix of 8x8 where each element is an integer in the range 0..16. Digits dataset contain 1797 such matrices."
      ],
      "metadata": {
        "id": "AQoXZEKEWqP4"
      }
    },
    {
      "cell_type": "code",
      "source": [
        "dataset1.images.shape"
      ],
      "metadata": {
        "colab": {
          "base_uri": "https://localhost:8080/"
        },
        "id": "oVug5hxAbsjc",
        "outputId": "1452c8c2-496e-49b1-f72b-98aae575ebb4"
      },
      "execution_count": 7,
      "outputs": [
        {
          "output_type": "execute_result",
          "data": {
            "text/plain": [
              "(1797, 8, 8)"
            ]
          },
          "metadata": {},
          "execution_count": 7
        }
      ]
    },
    {
      "cell_type": "code",
      "source": [
        "dataset1.images[0]"
      ],
      "metadata": {
        "colab": {
          "base_uri": "https://localhost:8080/"
        },
        "id": "S8FEt3sjb6NK",
        "outputId": "73027cbb-bffc-4bf0-c54f-2e68c6e5e819"
      },
      "execution_count": 8,
      "outputs": [
        {
          "output_type": "execute_result",
          "data": {
            "text/plain": [
              "array([[ 0.,  0.,  5., 13.,  9.,  1.,  0.,  0.],\n",
              "       [ 0.,  0., 13., 15., 10., 15.,  5.,  0.],\n",
              "       [ 0.,  3., 15.,  2.,  0., 11.,  8.,  0.],\n",
              "       [ 0.,  4., 12.,  0.,  0.,  8.,  8.,  0.],\n",
              "       [ 0.,  5.,  8.,  0.,  0.,  9.,  8.,  0.],\n",
              "       [ 0.,  4., 11.,  0.,  1., 12.,  7.,  0.],\n",
              "       [ 0.,  2., 14.,  5., 10., 12.,  0.,  0.],\n",
              "       [ 0.,  0.,  6., 13., 10.,  0.,  0.,  0.]])"
            ]
          },
          "metadata": {},
          "execution_count": 8
        }
      ]
    },
    {
      "cell_type": "code",
      "source": [
        "dataset1.images[0].shape"
      ],
      "metadata": {
        "colab": {
          "base_uri": "https://localhost:8080/"
        },
        "id": "p-Pp6iotcJ5X",
        "outputId": "dc5b07ca-f2e9-4e75-9875-3806191cb9e0"
      },
      "execution_count": 9,
      "outputs": [
        {
          "output_type": "execute_result",
          "data": {
            "text/plain": [
              "(8, 8)"
            ]
          },
          "metadata": {},
          "execution_count": 9
        }
      ]
    },
    {
      "cell_type": "code",
      "source": [
        "len(dataset1.images)"
      ],
      "metadata": {
        "colab": {
          "base_uri": "https://localhost:8080/"
        },
        "id": "bQlHHll5cOVL",
        "outputId": "cf2fa45f-6937-4db5-abee-34ff7fd5aa1c"
      },
      "execution_count": 10,
      "outputs": [
        {
          "output_type": "execute_result",
          "data": {
            "text/plain": [
              "1797"
            ]
          },
          "metadata": {},
          "execution_count": 10
        }
      ]
    },
    {
      "cell_type": "markdown",
      "source": [
        "## Data Visualization"
      ],
      "metadata": {
        "id": "KvbLl49EZsFe"
      }
    },
    {
      "cell_type": "code",
      "source": [
        "_,axes = plt.subplots(nrows=1,ncols=4,figsize=(10,3))\n",
        "for ax , image , label in zip(axes , dataset1.images, dataset1.target):\n",
        "  ax.set_axis_off()\n",
        "  ax.imshow(image,cmap=plt.cm.gray_r,interpolation='nearest')\n",
        "  ax.set_title('Training: %i'%label)"
      ],
      "metadata": {
        "colab": {
          "base_uri": "https://localhost:8080/",
          "height": 227
        },
        "id": "gr3Ofo2uZs__",
        "outputId": "f4bb841e-9067-4220-b7a8-a84537dc43bc"
      },
      "execution_count": 11,
      "outputs": [
        {
          "output_type": "display_data",
          "data": {
            "text/plain": [
              "<Figure size 1000x300 with 4 Axes>"
            ],
            "image/png": "[encoded data removed]"
          },
          "metadata": {}
        }
      ]
    },
    {
      "cell_type": "markdown",
      "source": [
        "## Data Preprocessing"
      ],
      "metadata": {
        "id": "gSXC7w-IAoFV"
      }
    },
    {
      "cell_type": "code",
      "source": [
        "data = dataset1.images.reshape((len(dataset1.images),-1))"
      ],
      "metadata": {
        "id": "QmxIgdTScl3h"
      },
      "execution_count": 12,
      "outputs": []
    },
    {
      "cell_type": "code",
      "source": [
        "data[0]"
      ],
      "metadata": {
        "colab": {
          "base_uri": "https://localhost:8080/"
        },
        "id": "_PCuxe9bcyn2",
        "outputId": "8c032711-ac9e-4559-df49-977e6ebc1732"
      },
      "execution_count": 13,
      "outputs": [
        {
          "output_type": "execute_result",
          "data": {
            "text/plain": [
              "array([ 0.,  0.,  5., 13.,  9.,  1.,  0.,  0.,  0.,  0., 13., 15., 10.,\n",
              "       15.,  5.,  0.,  0.,  3., 15.,  2.,  0., 11.,  8.,  0.,  0.,  4.,\n",
              "       12.,  0.,  0.,  8.,  8.,  0.,  0.,  5.,  8.,  0.,  0.,  9.,  8.,\n",
              "        0.,  0.,  4., 11.,  0.,  1., 12.,  7.,  0.,  0.,  2., 14.,  5.,\n",
              "       10., 12.,  0.,  0.,  0.,  0.,  6., 13., 10.,  0.,  0.,  0.])"
            ]
          },
          "metadata": {},
          "execution_count": 13
        }
      ]
    },
    {
      "cell_type": "code",
      "source": [
        "data[0].shape"
      ],
      "metadata": {
        "colab": {
          "base_uri": "https://localhost:8080/"
        },
        "id": "m2sROprYdPdQ",
        "outputId": "316fea7e-b9a6-455d-d8b3-ad4c1b273fd7"
      },
      "execution_count": 14,
      "outputs": [
        {
          "output_type": "execute_result",
          "data": {
            "text/plain": [
              "(64,)"
            ]
          },
          "metadata": {},
          "execution_count": 14
        }
      ]
    },
    {
      "cell_type": "code",
      "source": [
        "data.shape"
      ],
      "metadata": {
        "colab": {
          "base_uri": "https://localhost:8080/"
        },
        "id": "_V_gAEgJdTFc",
        "outputId": "9118845c-e712-4442-d176-d2b3887e013c"
      },
      "execution_count": 15,
      "outputs": [
        {
          "output_type": "execute_result",
          "data": {
            "text/plain": [
              "(1797, 64)"
            ]
          },
          "metadata": {},
          "execution_count": 15
        }
      ]
    },
    {
      "cell_type": "code",
      "source": [
        "print('Data min. : '+str(data.min()))\n",
        "print('Data max. : '+str(data.max()))"
      ],
      "metadata": {
        "id": "fwe6qwJUBkgB",
        "outputId": "c73f5819-7bcf-4f67-bc5e-89fe8625bb83",
        "colab": {
          "base_uri": "https://localhost:8080/"
        }
      },
      "execution_count": 16,
      "outputs": [
        {
          "output_type": "stream",
          "name": "stdout",
          "text": [
            "Data min. : 0.0\n",
            "Data max. : 16.0\n"
          ]
        }
      ]
    },
    {
      "cell_type": "code",
      "source": [
        "data /= 16"
      ],
      "metadata": {
        "id": "TUZ0yuERCC-u"
      },
      "execution_count": 17,
      "outputs": []
    },
    {
      "cell_type": "code",
      "source": [
        "print('Data min. : '+str(data.min()))\n",
        "print('Data max. : '+str(data.max()))"
      ],
      "metadata": {
        "colab": {
          "base_uri": "https://localhost:8080/"
        },
        "id": "wRZal4kMeNv4",
        "outputId": "26930045-5ba1-4fdb-8f32-6d8d1373a468"
      },
      "execution_count": 18,
      "outputs": [
        {
          "output_type": "stream",
          "name": "stdout",
          "text": [
            "Data min. : 0.0\n",
            "Data max. : 1.0\n"
          ]
        }
      ]
    },
    {
      "cell_type": "code",
      "source": [
        "data[0]"
      ],
      "metadata": {
        "colab": {
          "base_uri": "https://localhost:8080/"
        },
        "id": "AqvWKbWWeYvu",
        "outputId": "d16a7e63-ecf3-4286-ed9f-c4655f5d00a1"
      },
      "execution_count": 19,
      "outputs": [
        {
          "output_type": "execute_result",
          "data": {
            "text/plain": [
              "array([0.    , 0.    , 0.3125, 0.8125, 0.5625, 0.0625, 0.    , 0.    ,\n",
              "       0.    , 0.    , 0.8125, 0.9375, 0.625 , 0.9375, 0.3125, 0.    ,\n",
              "       0.    , 0.1875, 0.9375, 0.125 , 0.    , 0.6875, 0.5   , 0.    ,\n",
              "       0.    , 0.25  , 0.75  , 0.    , 0.    , 0.5   , 0.5   , 0.    ,\n",
              "       0.    , 0.3125, 0.5   , 0.    , 0.    , 0.5625, 0.5   , 0.    ,\n",
              "       0.    , 0.25  , 0.6875, 0.    , 0.0625, 0.75  , 0.4375, 0.    ,\n",
              "       0.    , 0.125 , 0.875 , 0.3125, 0.625 , 0.75  , 0.    , 0.    ,\n",
              "       0.    , 0.    , 0.375 , 0.8125, 0.625 , 0.    , 0.    , 0.    ])"
            ]
          },
          "metadata": {},
          "execution_count": 19
        }
      ]
    },
    {
      "cell_type": "markdown",
      "source": [
        "## Define Target Variable (y) and Feature Variables (X)"
      ],
      "metadata": {
        "id": "fzSc6BbtCtYP"
      }
    },
    {
      "cell_type": "code",
      "source": [
        "from sklearn.model_selection import train_test_split\n",
        "X_train,X_test,y_train,y_test = train_test_split(data,dataset1.target,test_size=0.3)"
      ],
      "metadata": {
        "id": "uHuBjPOgC5t9"
      },
      "execution_count": 20,
      "outputs": []
    },
    {
      "cell_type": "markdown",
      "source": [
        "## Train Test Split"
      ],
      "metadata": {
        "id": "dch9BFIGaKy_"
      }
    },
    {
      "cell_type": "code",
      "source": [
        "# check shape of train and test sample\n",
        "X_train.shape, X_test.shape, y_train.shape, y_test.shape"
      ],
      "metadata": {
        "colab": {
          "base_uri": "https://localhost:8080/"
        },
        "id": "dSdX2Nln-eMC",
        "outputId": "301ba393-d347-4d01-8ab0-e7ea43ccaf4f"
      },
      "execution_count": 21,
      "outputs": [
        {
          "output_type": "execute_result",
          "data": {
            "text/plain": [
              "((1257, 64), (540, 64), (1257,), (540,))"
            ]
          },
          "metadata": {},
          "execution_count": 21
        }
      ]
    },
    {
      "cell_type": "markdown",
      "source": [
        "## Preparing Random Forest Classification Model"
      ],
      "metadata": {
        "id": "Mdd4ZRCZChMu"
      }
    },
    {
      "cell_type": "code",
      "source": [
        "from sklearn.ensemble import RandomForestClassifier\n",
        "classifier = RandomForestClassifier()"
      ],
      "metadata": {
        "id": "JMw245hDCpWL"
      },
      "execution_count": 22,
      "outputs": []
    },
    {
      "cell_type": "code",
      "source": [
        "classifier.fit(X_train,y_train)"
      ],
      "metadata": {
        "colab": {
          "base_uri": "https://localhost:8080/",
          "height": 75
        },
        "id": "KOqJPGzdCwLf",
        "outputId": "eae1da59-7e37-4ec0-e997-002674f10eef"
      },
      "execution_count": 23,
      "outputs": [
        {
          "output_type": "execute_result",
          "data": {
            "text/plain": [
              "RandomForestClassifier()"
            ],
            "text/html": [
              "<style>#sk-container-id-1 {color: black;background-color: white;}#sk-container-id-1 pre{padding: 0;}#sk-container-id-1 div.sk-toggleable {background-color: white;}#sk-container-id-1 label.sk-toggleable__label {cursor: pointer;display: block;width: 100%;margin-bottom: 0;padding: 0.3em;box-sizing: border-box;text-align: center;}#sk-container-id-1 label.sk-toggleable__label-arrow:before {content: \"▸\";float: left;margin-right: 0.25em;color: #696969;}#sk-container-id-1 label.sk-toggleable__label-arrow:hover:before {color: black;}#sk-container-id-1 div.sk-estimator:hover label.sk-toggleable__label-arrow:before {color: black;}#sk-container-id-1 div.sk-toggleable__content {max-height: 0;max-width: 0;overflow: hidden;text-align: left;background-color: #f0f8ff;}#sk-container-id-1 div.sk-toggleable__content pre {margin: 0.2em;color: black;border-radius: 0.25em;background-color: #f0f8ff;}#sk-container-id-1 input.sk-toggleable__control:checked~div.sk-toggleable__content {max-height: 200px;max-width: 100%;overflow: auto;}#sk-container-id-1 input.sk-toggleable__control:checked~label.sk-toggleable__label-arrow:before {content: \"▾\";}#sk-container-id-1 div.sk-estimator input.sk-toggleable__control:checked~label.sk-toggleable__label {background-color: #d4ebff;}#sk-container-id-1 div.sk-label input.sk-toggleable__control:checked~label.sk-toggleable__label {background-color: #d4ebff;}#sk-container-id-1 input.sk-hidden--visually {border: 0;clip: rect(1px 1px 1px 1px);clip: rect(1px, 1px, 1px, 1px);height: 1px;margin: -1px;overflow: hidden;padding: 0;position: absolute;width: 1px;}#sk-container-id-1 div.sk-estimator {font-family: monospace;background-color: #f0f8ff;border: 1px dotted black;border-radius: 0.25em;box-sizing: border-box;margin-bottom: 0.5em;}#sk-container-id-1 div.sk-estimator:hover {background-color: #d4ebff;}#sk-container-id-1 div.sk-parallel-item::after {content: \"\";width: 100%;border-bottom: 1px solid gray;flex-grow: 1;}#sk-container-id-1 div.sk-label:hover label.sk-toggleable__label {background-color: #d4ebff;}#sk-container-id-1 div.sk-serial::before {content: \"\";position: absolute;border-left: 1px solid gray;box-sizing: border-box;top: 0;bottom: 0;left: 50%;z-index: 0;}#sk-container-id-1 div.sk-serial {display: flex;flex-direction: column;align-items: center;background-color: white;padding-right: 0.2em;padding-left: 0.2em;position: relative;}#sk-container-id-1 div.sk-item {position: relative;z-index: 1;}#sk-container-id-1 div.sk-parallel {display: flex;align-items: stretch;justify-content: center;background-color: white;position: relative;}#sk-container-id-1 div.sk-item::before, #sk-container-id-1 div.sk-parallel-item::before {content: \"\";position: absolute;border-left: 1px solid gray;box-sizing: border-box;top: 0;bottom: 0;left: 50%;z-index: -1;}#sk-container-id-1 div.sk-parallel-item {display: flex;flex-direction: column;z-index: 1;position: relative;background-color: white;}#sk-container-id-1 div.sk-parallel-item:first-child::after {align-self: flex-end;width: 50%;}#sk-container-id-1 div.sk-parallel-item:last-child::after {align-self: flex-start;width: 50%;}#sk-container-id-1 div.sk-parallel-item:only-child::after {width: 0;}#sk-container-id-1 div.sk-dashed-wrapped {border: 1px dashed gray;margin: 0 0.4em 0.5em 0.4em;box-sizing: border-box;padding-bottom: 0.4em;background-color: white;}#sk-container-id-1 div.sk-label label {font-family: monospace;font-weight: bold;display: inline-block;line-height: 1.2em;}#sk-container-id-1 div.sk-label-container {text-align: center;}#sk-container-id-1 div.sk-container {/* jupyter's `normalize.less` sets `[hidden] { display: none; }` but bootstrap.min.css set `[hidden] { display: none !important; }` so we also need the `!important` here to be able to override the default hidden behavior on the sphinx rendered scikit-learn.org. See: https://github.com/scikit-learn/scikit-learn/issues/21755 */display: inline-block !important;position: relative;}#sk-container-id-1 div.sk-text-repr-fallback {display: none;}</style><div id=\"sk-container-id-1\" class=\"sk-top-container\"><div class=\"sk-text-repr-fallback\"><pre>RandomForestClassifier()</pre><b>In a Jupyter environment, please rerun this cell to show the HTML representation or trust the notebook. <br />On GitHub, the HTML representation is unable to render, please try loading this page with nbviewer.org.</b></div><div class=\"sk-container\" hidden><div class=\"sk-item\"><div class=\"sk-estimator sk-toggleable\"><input class=\"sk-toggleable__control sk-hidden--visually\" id=\"sk-estimator-id-1\" type=\"checkbox\" checked><label for=\"sk-estimator-id-1\" class=\"sk-toggleable__label sk-toggleable__label-arrow\">RandomForestClassifier</label><div class=\"sk-toggleable__content\"><pre>RandomForestClassifier()</pre></div></div></div></div></div>"
            ]
          },
          "metadata": {},
          "execution_count": 23
        }
      ]
    },
    {
      "cell_type": "markdown",
      "source": [
        "## Prediction"
      ],
      "metadata": {
        "id": "jjT9yY3mC3en"
      }
    },
    {
      "cell_type": "code",
      "source": [
        "y_pred = classifier.predict(X_test)\n",
        "y_pred"
      ],
      "metadata": {
        "colab": {
          "base_uri": "https://localhost:8080/"
        },
        "id": "cL63-QljC0Ld",
        "outputId": "04371532-8e7b-41de-f9dc-7fcae6e201ff"
      },
      "execution_count": 24,
      "outputs": [
        {
          "output_type": "execute_result",
          "data": {
            "text/plain": [
              "array([0, 8, 0, 1, 7, 3, 0, 8, 2, 6, 5, 3, 5, 0, 7, 6, 9, 0, 6, 6, 1, 0,\n",
              "       0, 9, 0, 7, 1, 1, 1, 8, 8, 2, 1, 9, 2, 5, 2, 8, 0, 9, 0, 6, 2, 5,\n",
              "       2, 8, 5, 2, 3, 4, 8, 1, 8, 8, 6, 8, 6, 1, 6, 6, 8, 3, 5, 2, 3, 9,\n",
              "       2, 5, 7, 0, 5, 2, 7, 3, 5, 5, 8, 7, 1, 0, 8, 4, 3, 8, 4, 7, 4, 4,\n",
              "       6, 4, 5, 4, 8, 1, 7, 9, 8, 2, 2, 1, 1, 9, 3, 6, 2, 4, 5, 4, 4, 5,\n",
              "       7, 2, 2, 1, 8, 1, 8, 1, 4, 8, 8, 1, 6, 6, 3, 7, 4, 4, 9, 8, 6, 3,\n",
              "       5, 2, 3, 5, 8, 4, 7, 4, 0, 7, 7, 5, 8, 1, 0, 6, 1, 8, 3, 4, 4, 9,\n",
              "       6, 8, 9, 8, 4, 4, 2, 1, 7, 0, 5, 4, 3, 5, 7, 2, 4, 3, 7, 7, 3, 0,\n",
              "       1, 5, 2, 5, 9, 0, 3, 9, 7, 1, 6, 5, 2, 3, 2, 3, 9, 0, 2, 5, 3, 1,\n",
              "       9, 4, 7, 3, 3, 8, 0, 4, 0, 3, 6, 5, 3, 7, 2, 5, 1, 4, 7, 1, 7, 1,\n",
              "       8, 0, 7, 0, 6, 4, 8, 0, 6, 7, 5, 9, 1, 1, 1, 2, 1, 1, 3, 6, 2, 1,\n",
              "       6, 4, 7, 5, 4, 9, 2, 8, 9, 4, 8, 3, 2, 1, 9, 1, 4, 6, 6, 2, 1, 5,\n",
              "       5, 2, 5, 1, 7, 4, 2, 4, 2, 9, 9, 4, 9, 0, 8, 4, 8, 4, 6, 0, 0, 6,\n",
              "       3, 6, 9, 0, 0, 7, 7, 2, 4, 4, 4, 4, 8, 1, 7, 9, 6, 0, 4, 3, 3, 9,\n",
              "       7, 0, 9, 5, 4, 3, 3, 6, 6, 2, 9, 7, 4, 3, 6, 5, 8, 5, 7, 5, 8, 6,\n",
              "       3, 4, 8, 5, 1, 2, 2, 1, 7, 0, 8, 7, 2, 1, 0, 5, 5, 1, 8, 1, 9, 5,\n",
              "       2, 5, 2, 5, 5, 3, 4, 7, 5, 8, 7, 2, 3, 4, 4, 7, 1, 7, 6, 7, 5, 0,\n",
              "       3, 3, 4, 4, 9, 1, 7, 4, 4, 8, 5, 0, 5, 3, 7, 6, 4, 5, 3, 9, 0, 7,\n",
              "       3, 3, 9, 9, 2, 2, 3, 6, 4, 6, 1, 5, 2, 8, 1, 0, 7, 0, 5, 4, 1, 3,\n",
              "       3, 0, 0, 3, 1, 0, 7, 3, 1, 7, 1, 3, 0, 3, 8, 5, 1, 0, 6, 8, 4, 8,\n",
              "       2, 6, 4, 8, 1, 7, 1, 4, 5, 5, 9, 2, 6, 7, 6, 8, 8, 2, 2, 9, 5, 8,\n",
              "       4, 3, 9, 3, 4, 6, 8, 9, 0, 1, 3, 1, 6, 5, 6, 4, 6, 0, 0, 4, 4, 6,\n",
              "       5, 7, 4, 1, 2, 6, 8, 6, 0, 7, 1, 5, 7, 8, 2, 9, 6, 1, 7, 2, 6, 4,\n",
              "       9, 9, 5, 7, 3, 8, 2, 0, 9, 7, 4, 7, 6, 9, 0, 8, 2, 6, 1, 6, 4, 1,\n",
              "       0, 9, 4, 6, 4, 4, 0, 2, 1, 7, 9, 9])"
            ]
          },
          "metadata": {},
          "execution_count": 24
        }
      ]
    },
    {
      "cell_type": "markdown",
      "source": [
        "## Model Evaluation"
      ],
      "metadata": {
        "id": "vLOoC87uDx9P"
      }
    },
    {
      "cell_type": "code",
      "source": [
        "from sklearn.metrics import confusion_matrix,accuracy_score,classification_report\n",
        "cm = confusion_matrix(y_pred,y_test)\n",
        "print(cm)"
      ],
      "metadata": {
        "id": "bEuq8AYBDzIB",
        "colab": {
          "base_uri": "https://localhost:8080/"
        },
        "outputId": "16511fc3-2b99-4b9b-b795-37e277c9b074"
      },
      "execution_count": 25,
      "outputs": [
        {
          "output_type": "stream",
          "name": "stdout",
          "text": [
            "[[49  0  1  0  0  0  0  0  0  0]\n",
            " [ 0 58  0  0  0  0  0  0  2  0]\n",
            " [ 0  0 52  0  0  0  0  0  0  0]\n",
            " [ 0  0  1 50  0  0  0  0  0  0]\n",
            " [ 1  0  0  0 66  0  0  0  0  0]\n",
            " [ 0  0  0  0  0 55  0  0  0  0]\n",
            " [ 0  0  0  0  0  0 53  0  0  0]\n",
            " [ 0  0  0  0  0  0  0 55  0  0]\n",
            " [ 0  0  0  1  0  0  0  0 52  1]\n",
            " [ 0  0  0  0  0  0  0  0  1 42]]\n"
          ]
        }
      ]
    },
    {
      "cell_type": "code",
      "source": [
        "accuracy_score(y_pred,y_test)"
      ],
      "metadata": {
        "colab": {
          "base_uri": "https://localhost:8080/"
        },
        "id": "hV4sEmNSV1Ie",
        "outputId": "a97496b5-2f35-48eb-8b9c-31d123ae8a33"
      },
      "execution_count": 26,
      "outputs": [
        {
          "output_type": "execute_result",
          "data": {
            "text/plain": [
              "0.9851851851851852"
            ]
          },
          "metadata": {},
          "execution_count": 26
        }
      ]
    },
    {
      "cell_type": "code",
      "source": [
        "print(classification_report(y_test,y_pred))"
      ],
      "metadata": {
        "colab": {
          "base_uri": "https://localhost:8080/"
        },
        "id": "OvzJPmTnWXVs",
        "outputId": "d67b1bcc-a0e7-4480-f7ad-41ab06cac8ed"
      },
      "execution_count": 27,
      "outputs": [
        {
          "output_type": "stream",
          "name": "stdout",
          "text": [
            "              precision    recall  f1-score   support\n",
            "\n",
            "           0       0.98      0.98      0.98        50\n",
            "           1       0.97      1.00      0.98        58\n",
            "           2       1.00      0.96      0.98        54\n",
            "           3       0.98      0.98      0.98        51\n",
            "           4       0.99      1.00      0.99        66\n",
            "           5       1.00      1.00      1.00        55\n",
            "           6       1.00      1.00      1.00        53\n",
            "           7       1.00      1.00      1.00        55\n",
            "           8       0.96      0.95      0.95        55\n",
            "           9       0.98      0.98      0.98        43\n",
            "\n",
            "    accuracy                           0.99       540\n",
            "   macro avg       0.99      0.98      0.98       540\n",
            "weighted avg       0.99      0.99      0.99       540\n",
            "\n"
          ]
        }
      ]
    },
    {
      "cell_type": "markdown",
      "source": [
        "## Explaination"
      ],
      "metadata": {
        "id": "xOsdW-3vawYs"
      }
    },
    {
      "cell_type": "markdown",
      "source": [
        "1797 Matrices are flattened into a tuple.64 attributes of tuples serve as features for the model to be developed. A random forest classifier model is developed , trained. Model is evaluated using various metrics by comapring predictions with actual test results."
      ],
      "metadata": {
        "id": "QHKcMCHza00H"
      }
    }
  ]
}